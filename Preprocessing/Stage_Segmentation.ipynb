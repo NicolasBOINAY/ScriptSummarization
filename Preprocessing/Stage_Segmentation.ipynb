{
  "cells": [
    {
      "cell_type": "code",
      "execution_count": null,
      "metadata": {
        "id": "abq86yHAfqQi"
      },
      "outputs": [],
      "source": [
        "import pickle\n",
        "with open('gladiator_sentence_transformer.pkl', 'rb') as f:\n",
        "    gladiator = pickle.load(f)\n",
        "\n",
        "\n",
        "\n",
        "\n",
        "\n"
      ]
    },
    {
      "cell_type": "code",
      "source": [
        "len(gladiator[6])\n"
      ],
      "metadata": {
        "colab": {
          "base_uri": "https://localhost:8080/"
        },
        "id": "d-KTm08r1suc",
        "outputId": "34080506-88d7-4f1c-a80b-4e113afc2148"
      },
      "execution_count": null,
      "outputs": [
        {
          "output_type": "execute_result",
          "data": {
            "text/plain": [
              "10"
            ]
          },
          "metadata": {},
          "execution_count": 2
        }
      ]
    },
    {
      "cell_type": "code",
      "execution_count": null,
      "metadata": {
        "id": "5vhI5yxafqQn"
      },
      "outputs": [],
      "source": [
        "import numpy as np\n",
        "length = []\n",
        "\n",
        "for i in range(0, len(gladiator)):\n",
        "    length.append(len(gladiator[i]))\n",
        "\n",
        "\n",
        "\n",
        "\n",
        "X = []\n",
        "\n",
        "for i in range(0, len(gladiator)):\n",
        "    for j in range(0, len(gladiator[i])):\n",
        "        X.append(np.array(gladiator[i][j]))\n",
        "\n"
      ]
    },
    {
      "cell_type": "code",
      "source": [
        "print(X[45][4])"
      ],
      "metadata": {
        "colab": {
          "base_uri": "https://localhost:8080/"
        },
        "id": "g1ArUWTOYrJ2",
        "outputId": "8a170251-3221-4570-8bcb-23c197f8f298"
      },
      "execution_count": null,
      "outputs": [
        {
          "output_type": "stream",
          "name": "stdout",
          "text": [
            "0.1711742\n"
          ]
        }
      ]
    },
    {
      "cell_type": "code",
      "source": [
        "%pip install hmmlearn"
      ],
      "metadata": {
        "colab": {
          "base_uri": "https://localhost:8080/"
        },
        "id": "npAqpLvFkRMF",
        "outputId": "865cf352-d2f6-4db5-dd35-e58a187941f3"
      },
      "execution_count": null,
      "outputs": [
        {
          "output_type": "stream",
          "name": "stdout",
          "text": [
            "Collecting hmmlearn\n",
            "  Downloading hmmlearn-0.2.6-cp37-cp37m-manylinux_2_5_x86_64.manylinux1_x86_64.whl (374 kB)\n",
            "\u001b[?25l\r\u001b[K     |▉                               | 10 kB 20.5 MB/s eta 0:00:01\r\u001b[K     |█▊                              | 20 kB 25.4 MB/s eta 0:00:01\r\u001b[K     |██▋                             | 30 kB 14.9 MB/s eta 0:00:01\r\u001b[K     |███▌                            | 40 kB 16.0 MB/s eta 0:00:01\r\u001b[K     |████▍                           | 51 kB 13.5 MB/s eta 0:00:01\r\u001b[K     |█████▎                          | 61 kB 13.2 MB/s eta 0:00:01\r\u001b[K     |██████▏                         | 71 kB 12.3 MB/s eta 0:00:01\r\u001b[K     |███████                         | 81 kB 13.6 MB/s eta 0:00:01\r\u001b[K     |███████▉                        | 92 kB 13.1 MB/s eta 0:00:01\r\u001b[K     |████████▊                       | 102 kB 12.4 MB/s eta 0:00:01\r\u001b[K     |█████████▋                      | 112 kB 12.4 MB/s eta 0:00:01\r\u001b[K     |██████████▌                     | 122 kB 12.4 MB/s eta 0:00:01\r\u001b[K     |███████████▍                    | 133 kB 12.4 MB/s eta 0:00:01\r\u001b[K     |████████████▎                   | 143 kB 12.4 MB/s eta 0:00:01\r\u001b[K     |█████████████▏                  | 153 kB 12.4 MB/s eta 0:00:01\r\u001b[K     |██████████████                  | 163 kB 12.4 MB/s eta 0:00:01\r\u001b[K     |██████████████▉                 | 174 kB 12.4 MB/s eta 0:00:01\r\u001b[K     |███████████████▊                | 184 kB 12.4 MB/s eta 0:00:01\r\u001b[K     |████████████████▋               | 194 kB 12.4 MB/s eta 0:00:01\r\u001b[K     |█████████████████▌              | 204 kB 12.4 MB/s eta 0:00:01\r\u001b[K     |██████████████████▍             | 215 kB 12.4 MB/s eta 0:00:01\r\u001b[K     |███████████████████▎            | 225 kB 12.4 MB/s eta 0:00:01\r\u001b[K     |████████████████████            | 235 kB 12.4 MB/s eta 0:00:01\r\u001b[K     |█████████████████████           | 245 kB 12.4 MB/s eta 0:00:01\r\u001b[K     |█████████████████████▉          | 256 kB 12.4 MB/s eta 0:00:01\r\u001b[K     |██████████████████████▊         | 266 kB 12.4 MB/s eta 0:00:01\r\u001b[K     |███████████████████████▋        | 276 kB 12.4 MB/s eta 0:00:01\r\u001b[K     |████████████████████████▌       | 286 kB 12.4 MB/s eta 0:00:01\r\u001b[K     |█████████████████████████▍      | 296 kB 12.4 MB/s eta 0:00:01\r\u001b[K     |██████████████████████████▎     | 307 kB 12.4 MB/s eta 0:00:01\r\u001b[K     |███████████████████████████     | 317 kB 12.4 MB/s eta 0:00:01\r\u001b[K     |████████████████████████████    | 327 kB 12.4 MB/s eta 0:00:01\r\u001b[K     |████████████████████████████▉   | 337 kB 12.4 MB/s eta 0:00:01\r\u001b[K     |█████████████████████████████▊  | 348 kB 12.4 MB/s eta 0:00:01\r\u001b[K     |██████████████████████████████▋ | 358 kB 12.4 MB/s eta 0:00:01\r\u001b[K     |███████████████████████████████▌| 368 kB 12.4 MB/s eta 0:00:01\r\u001b[K     |████████████████████████████████| 374 kB 12.4 MB/s \n",
            "\u001b[?25hRequirement already satisfied: numpy>=1.10 in /usr/local/lib/python3.7/dist-packages (from hmmlearn) (1.19.5)\n",
            "Requirement already satisfied: scipy>=0.19 in /usr/local/lib/python3.7/dist-packages (from hmmlearn) (1.4.1)\n",
            "Requirement already satisfied: scikit-learn>=0.16 in /usr/local/lib/python3.7/dist-packages (from hmmlearn) (1.0.2)\n",
            "Requirement already satisfied: threadpoolctl>=2.0.0 in /usr/local/lib/python3.7/dist-packages (from scikit-learn>=0.16->hmmlearn) (3.0.0)\n",
            "Requirement already satisfied: joblib>=0.11 in /usr/local/lib/python3.7/dist-packages (from scikit-learn>=0.16->hmmlearn) (1.1.0)\n",
            "Installing collected packages: hmmlearn\n",
            "Successfully installed hmmlearn-0.2.6\n"
          ]
        }
      ]
    },
    {
      "cell_type": "code",
      "execution_count": null,
      "metadata": {
        "id": "OW5rcI4OfqQo"
      },
      "outputs": [],
      "source": [
        "from hmmlearn import hmm"
      ]
    },
    {
      "cell_type": "code",
      "execution_count": null,
      "metadata": {
        "id": "u9dEzMRYfqQo"
      },
      "outputs": [],
      "source": [
        "remodel = hmm.GaussianHMM(n_components=4, n_iter = 50, covariance_type = 'diag', verbose = True, init_params=\"cm\", params=\"cmts\")\n",
        "remodel.startprob_ = np.array([1, 0.0, 0.0, 0.0])\n",
        "remodel.transmat_ = np.array([\n",
        "                 [0.33, 0.34, 0.33, 0.0],\n",
        "                 [ 0.0, 0.33, 0.34, 0.33],\n",
        "                 [0.0, 0.0, 0.5, 0.5],\n",
        "                 [0.0, 0.0, 0.0, 1.0]]\n",
        "                            )"
      ]
    },
    {
      "cell_type": "code",
      "execution_count": null,
      "metadata": {
        "colab": {
          "base_uri": "https://localhost:8080/"
        },
        "id": "AMrKjwxYfqQo",
        "outputId": "4201070b-47cc-4577-cca7-4eefe64418ca"
      },
      "outputs": [
        {
          "output_type": "execute_result",
          "data": {
            "text/plain": [
              "array([1., 0., 0., 0.])"
            ]
          },
          "metadata": {},
          "execution_count": 7
        }
      ],
      "source": [
        "remodel.startprob_"
      ]
    },
    {
      "cell_type": "code",
      "execution_count": null,
      "metadata": {
        "colab": {
          "base_uri": "https://localhost:8080/"
        },
        "id": "uQenVUeffqQp",
        "outputId": "272b1c95-aedc-48a3-eb10-79df43c601f3"
      },
      "outputs": [
        {
          "output_type": "execute_result",
          "data": {
            "text/plain": [
              "array([[0.33, 0.34, 0.33, 0.  ],\n",
              "       [0.  , 0.33, 0.34, 0.33],\n",
              "       [0.  , 0.  , 0.5 , 0.5 ],\n",
              "       [0.  , 0.  , 0.  , 1.  ]])"
            ]
          },
          "metadata": {},
          "execution_count": 8
        }
      ],
      "source": [
        "remodel.transmat_"
      ]
    },
    {
      "cell_type": "code",
      "execution_count": null,
      "metadata": {
        "colab": {
          "base_uri": "https://localhost:8080/"
        },
        "id": "_MCu6JeifqQq",
        "outputId": "2e7fc222-4b83-4a26-f1a7-c2fd04659233"
      },
      "outputs": [
        {
          "output_type": "stream",
          "name": "stderr",
          "text": [
            "         1     -379915.8535             +nan\n",
            "         2     -357805.7808      +22110.0727\n",
            "         3     -357805.5645          +0.2163\n",
            "         4     -357805.5645          -0.0000\n"
          ]
        },
        {
          "output_type": "execute_result",
          "data": {
            "text/plain": [
              "GaussianHMM(init_params='cm', n_components=4, n_iter=50, params='cmts',\n",
              "            verbose=True)"
            ]
          },
          "metadata": {},
          "execution_count": 9
        }
      ],
      "source": [
        "\n",
        "remodel.fit(X, length)"
      ]
    },
    {
      "cell_type": "code",
      "execution_count": null,
      "metadata": {
        "colab": {
          "base_uri": "https://localhost:8080/"
        },
        "id": "1-Jfril3fqQr",
        "outputId": "80f2dafe-4c43-4f79-8a5f-bdb7d5045ba9"
      },
      "outputs": [
        {
          "output_type": "execute_result",
          "data": {
            "text/plain": [
              "array([[9.92753623e-001, 7.24637681e-003, 4.43024350e-204,\n",
              "        0.00000000e+000],\n",
              "       [0.00000000e+000, 9.03225806e-001, 9.67741936e-002,\n",
              "        1.97738954e-240],\n",
              "       [0.00000000e+000, 0.00000000e+000, 8.18181818e-001,\n",
              "        1.81818182e-001],\n",
              "       [0.00000000e+000, 0.00000000e+000, 0.00000000e+000,\n",
              "        1.00000000e+000]])"
            ]
          },
          "metadata": {},
          "execution_count": 10
        }
      ],
      "source": [
        "remodel.transmat_"
      ]
    },
    {
      "cell_type": "code",
      "execution_count": null,
      "metadata": {
        "colab": {
          "base_uri": "https://localhost:8080/"
        },
        "id": "mXcoS81YfqQr",
        "outputId": "52fdcf34-4b58-4190-fce1-e9d20a63e59b"
      },
      "outputs": [
        {
          "output_type": "execute_result",
          "data": {
            "text/plain": [
              "array([1., 0., 0., 0.])"
            ]
          },
          "metadata": {},
          "execution_count": 11
        }
      ],
      "source": [
        "remodel.startprob_"
      ]
    },
    {
      "cell_type": "code",
      "execution_count": null,
      "metadata": {
        "id": "1YtqYTikfqQs"
      },
      "outputs": [],
      "source": [
        "def encode_convs(profix):\n",
        "    sent_label = []\n",
        "    with open(profix + '_sentence_transformer.pkl', 'rb') as f:\n",
        "        data = pickle.load(f)\n",
        "    for i in range(0, len(data)):\n",
        "        labels = remodel.decode(np.array(data[i]))[1]\n",
        "        sent_label.append(labels)\n",
        "    \n",
        "    with open(profix + '_sent_trans_cons_label_2.pkl', 'wb') as f:\n",
        "        pickle.dump(sent_label, f)\n",
        "    return sent_label"
      ]
    },
    {
      "cell_type": "code",
      "source": [
        ""
      ],
      "metadata": {
        "id": "CJ4Y1hsKT8HV"
      },
      "execution_count": null,
      "outputs": []
    },
    {
      "cell_type": "code",
      "execution_count": null,
      "metadata": {
        "id": "wFxF9VaifqQt"
      },
      "outputs": [],
      "source": [
        "l = encode_convs('gladiator')"
      ]
    },
    {
      "cell_type": "code",
      "execution_count": null,
      "metadata": {
        "colab": {
          "base_uri": "https://localhost:8080/",
          "height": 312
        },
        "id": "21Hk9xRcfqQt",
        "outputId": "ec246247-b342-446e-ad30-0471bcd8c83c"
      },
      "outputs": [
        {
          "output_type": "error",
          "ename": "AttributeError",
          "evalue": "ignored",
          "traceback": [
            "\u001b[0;31m---------------------------------------------------------------------------\u001b[0m",
            "\u001b[0;31mAttributeError\u001b[0m                            Traceback (most recent call last)",
            "\u001b[0;32m<ipython-input-30-f6fffd16631d>\u001b[0m in \u001b[0;36m<module>\u001b[0;34m()\u001b[0m\n\u001b[0;32m----> 1\u001b[0;31m \u001b[0ml\u001b[0m \u001b[0;34m=\u001b[0m \u001b[0mencode_convs\u001b[0m\u001b[0;34m(\u001b[0m\u001b[0;34m'CastAway'\u001b[0m\u001b[0;34m)\u001b[0m\u001b[0;34m\u001b[0m\u001b[0;34m\u001b[0m\u001b[0m\n\u001b[0m",
            "\u001b[0;32m<ipython-input-28-641a0d8624cd>\u001b[0m in \u001b[0;36mencode_convs\u001b[0;34m(profix)\u001b[0m\n\u001b[1;32m      4\u001b[0m         \u001b[0mdata\u001b[0m \u001b[0;34m=\u001b[0m \u001b[0mpickle\u001b[0m\u001b[0;34m.\u001b[0m\u001b[0mload\u001b[0m\u001b[0;34m(\u001b[0m\u001b[0mf\u001b[0m\u001b[0;34m)\u001b[0m\u001b[0;34m\u001b[0m\u001b[0;34m\u001b[0m\u001b[0m\n\u001b[1;32m      5\u001b[0m     \u001b[0;32mfor\u001b[0m \u001b[0mi\u001b[0m \u001b[0;32min\u001b[0m \u001b[0mrange\u001b[0m\u001b[0;34m(\u001b[0m\u001b[0;36m0\u001b[0m\u001b[0;34m,\u001b[0m \u001b[0mlen\u001b[0m\u001b[0;34m(\u001b[0m\u001b[0mdata\u001b[0m\u001b[0;34m)\u001b[0m\u001b[0;34m)\u001b[0m\u001b[0;34m:\u001b[0m\u001b[0;34m\u001b[0m\u001b[0;34m\u001b[0m\u001b[0m\n\u001b[0;32m----> 6\u001b[0;31m         \u001b[0mlabels\u001b[0m \u001b[0;34m=\u001b[0m \u001b[0mremodel\u001b[0m\u001b[0;34m.\u001b[0m\u001b[0mdecode\u001b[0m\u001b[0;34m(\u001b[0m\u001b[0mnp\u001b[0m\u001b[0;34m.\u001b[0m\u001b[0marray\u001b[0m\u001b[0;34m(\u001b[0m\u001b[0mdata\u001b[0m\u001b[0;34m[\u001b[0m\u001b[0mi\u001b[0m\u001b[0;34m]\u001b[0m\u001b[0;34m)\u001b[0m\u001b[0;34m)\u001b[0m\u001b[0;34m[\u001b[0m\u001b[0;36m1\u001b[0m\u001b[0;34m]\u001b[0m\u001b[0;34m\u001b[0m\u001b[0;34m\u001b[0m\u001b[0m\n\u001b[0m\u001b[1;32m      7\u001b[0m         \u001b[0msent_label\u001b[0m\u001b[0;34m.\u001b[0m\u001b[0mappend\u001b[0m\u001b[0;34m(\u001b[0m\u001b[0mlabels\u001b[0m\u001b[0;34m)\u001b[0m\u001b[0;34m\u001b[0m\u001b[0;34m\u001b[0m\u001b[0m\n\u001b[1;32m      8\u001b[0m \u001b[0;34m\u001b[0m\u001b[0m\n",
            "\u001b[0;32m/usr/local/lib/python3.7/dist-packages/hmmlearn/base.py\u001b[0m in \u001b[0;36mdecode\u001b[0;34m(self, X, lengths, algorithm)\u001b[0m\n\u001b[1;32m    311\u001b[0m         \"\"\"\n\u001b[1;32m    312\u001b[0m         \u001b[0m_utils\u001b[0m\u001b[0;34m.\u001b[0m\u001b[0mcheck_is_fitted\u001b[0m\u001b[0;34m(\u001b[0m\u001b[0mself\u001b[0m\u001b[0;34m,\u001b[0m \u001b[0;34m\"startprob_\"\u001b[0m\u001b[0;34m)\u001b[0m\u001b[0;34m\u001b[0m\u001b[0;34m\u001b[0m\u001b[0m\n\u001b[0;32m--> 313\u001b[0;31m         \u001b[0mself\u001b[0m\u001b[0;34m.\u001b[0m\u001b[0m_check\u001b[0m\u001b[0;34m(\u001b[0m\u001b[0;34m)\u001b[0m\u001b[0;34m\u001b[0m\u001b[0;34m\u001b[0m\u001b[0m\n\u001b[0m\u001b[1;32m    314\u001b[0m \u001b[0;34m\u001b[0m\u001b[0m\n\u001b[1;32m    315\u001b[0m         \u001b[0malgorithm\u001b[0m \u001b[0;34m=\u001b[0m \u001b[0malgorithm\u001b[0m \u001b[0;32mor\u001b[0m \u001b[0mself\u001b[0m\u001b[0;34m.\u001b[0m\u001b[0malgorithm\u001b[0m\u001b[0;34m\u001b[0m\u001b[0;34m\u001b[0m\u001b[0m\n",
            "\u001b[0;32m/usr/local/lib/python3.7/dist-packages/hmmlearn/hmm.py\u001b[0m in \u001b[0;36m_check\u001b[0;34m(self)\u001b[0m\n\u001b[1;32m    211\u001b[0m         \u001b[0msuper\u001b[0m\u001b[0;34m(\u001b[0m\u001b[0;34m)\u001b[0m\u001b[0;34m.\u001b[0m\u001b[0m_check\u001b[0m\u001b[0;34m(\u001b[0m\u001b[0;34m)\u001b[0m\u001b[0;34m\u001b[0m\u001b[0;34m\u001b[0m\u001b[0m\n\u001b[1;32m    212\u001b[0m \u001b[0;34m\u001b[0m\u001b[0m\n\u001b[0;32m--> 213\u001b[0;31m         \u001b[0mself\u001b[0m\u001b[0;34m.\u001b[0m\u001b[0mmeans_\u001b[0m \u001b[0;34m=\u001b[0m \u001b[0mnp\u001b[0m\u001b[0;34m.\u001b[0m\u001b[0masarray\u001b[0m\u001b[0;34m(\u001b[0m\u001b[0mself\u001b[0m\u001b[0;34m.\u001b[0m\u001b[0mmeans_\u001b[0m\u001b[0;34m)\u001b[0m\u001b[0;34m\u001b[0m\u001b[0;34m\u001b[0m\u001b[0m\n\u001b[0m\u001b[1;32m    214\u001b[0m         \u001b[0mself\u001b[0m\u001b[0;34m.\u001b[0m\u001b[0mn_features\u001b[0m \u001b[0;34m=\u001b[0m \u001b[0mself\u001b[0m\u001b[0;34m.\u001b[0m\u001b[0mmeans_\u001b[0m\u001b[0;34m.\u001b[0m\u001b[0mshape\u001b[0m\u001b[0;34m[\u001b[0m\u001b[0;36m1\u001b[0m\u001b[0;34m]\u001b[0m\u001b[0;34m\u001b[0m\u001b[0;34m\u001b[0m\u001b[0m\n\u001b[1;32m    215\u001b[0m \u001b[0;34m\u001b[0m\u001b[0m\n",
            "\u001b[0;31mAttributeError\u001b[0m: 'GaussianHMM' object has no attribute 'means_'"
          ]
        }
      ],
      "source": [
        "l = encode_convs('CastAway')"
      ]
    },
    {
      "cell_type": "code",
      "execution_count": null,
      "metadata": {
        "id": "eDkToP2PfqQt"
      },
      "outputs": [],
      "source": [
        "l = encode_convs('Cars2')"
      ]
    },
    {
      "cell_type": "code",
      "execution_count": null,
      "metadata": {
        "id": "MrV4D5BhfqQu"
      },
      "outputs": [],
      "source": [
        ""
      ]
    }
  ],
  "metadata": {
    "kernelspec": {
      "display_name": "Python 3",
      "language": "python",
      "name": "python3"
    },
    "language_info": {
      "codemirror_mode": {
        "name": "ipython",
        "version": 3
      },
      "file_extension": ".py",
      "mimetype": "text/x-python",
      "name": "python",
      "nbconvert_exporter": "python",
      "pygments_lexer": "ipython3",
      "version": "3.7.6"
    },
    "colab": {
      "name": "Stage_Segmentation.ipynb",
      "provenance": []
    }
  },
  "nbformat": 4,
  "nbformat_minor": 0
}