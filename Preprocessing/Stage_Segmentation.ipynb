{
  "cells": [
    {
      "cell_type": "code",
      "execution_count": 15,
      "metadata": {
        "id": "abq86yHAfqQi"
      },
      "outputs": [],
      "source": [
        "import pickle\n",
        "with open('diehard_sentence_transformer.pkl', 'rb') as f:\n",
        "    diehard = pickle.load(f)\n"
      ]
    },
    {
      "cell_type": "code",
      "execution_count": 17,
      "metadata": {
        "id": "5vhI5yxafqQn"
      },
      "outputs": [],
      "source": [
        "import numpy as np\n",
        "length = []\n",
        "for i in range(0, len(diehard)):\n",
        "    length.append(len(diehard[i]))\n",
        "\n",
        "X = []\n",
        "for i in range(0, len(diehard)):\n",
        "    for j in range(0, len(diehard[i])):\n",
        "        X.append(np.array(diehard[i][j]))\n",
        "\n"
      ]
    },
    {
      "cell_type": "code",
      "source": [
        "%pip install hmmlearn"
      ],
      "metadata": {
        "colab": {
          "base_uri": "https://localhost:8080/"
        },
        "id": "npAqpLvFkRMF",
        "outputId": "fa8d2aba-d9fb-4015-be05-dbeb8baf0665"
      },
      "execution_count": 5,
      "outputs": [
        {
          "output_type": "stream",
          "name": "stdout",
          "text": [
            "Collecting hmmlearn\n",
            "  Downloading hmmlearn-0.2.6-cp37-cp37m-manylinux_2_5_x86_64.manylinux1_x86_64.whl (374 kB)\n",
            "\u001b[K     |████████████████████████████████| 374 kB 5.1 MB/s \n",
            "\u001b[?25hRequirement already satisfied: numpy>=1.10 in /usr/local/lib/python3.7/dist-packages (from hmmlearn) (1.19.5)\n",
            "Requirement already satisfied: scipy>=0.19 in /usr/local/lib/python3.7/dist-packages (from hmmlearn) (1.4.1)\n",
            "Requirement already satisfied: scikit-learn>=0.16 in /usr/local/lib/python3.7/dist-packages (from hmmlearn) (1.0.2)\n",
            "Requirement already satisfied: threadpoolctl>=2.0.0 in /usr/local/lib/python3.7/dist-packages (from scikit-learn>=0.16->hmmlearn) (3.0.0)\n",
            "Requirement already satisfied: joblib>=0.11 in /usr/local/lib/python3.7/dist-packages (from scikit-learn>=0.16->hmmlearn) (1.1.0)\n",
            "Installing collected packages: hmmlearn\n",
            "Successfully installed hmmlearn-0.2.6\n"
          ]
        }
      ]
    },
    {
      "cell_type": "code",
      "execution_count": 6,
      "metadata": {
        "id": "OW5rcI4OfqQo"
      },
      "outputs": [],
      "source": [
        "from hmmlearn import hmm"
      ]
    },
    {
      "cell_type": "code",
      "execution_count": 19,
      "metadata": {
        "id": "u9dEzMRYfqQo"
      },
      "outputs": [],
      "source": [
        "remodel = hmm.GaussianHMM(n_components=4, n_iter = 50, covariance_type = 'diag', verbose = True, init_params=\"cm\", params=\"cmts\")\n",
        "remodel.startprob_ = np.array([1, 0.0, 0.0, 0.0])\n",
        "remodel.transmat_ = np.array([\n",
        "                 [0.33, 0.34, 0.33, 0.0],\n",
        "                 [ 0.0, 0.33, 0.34, 0.33],\n",
        "                 [0.0, 0.0, 0.5, 0.5],\n",
        "                 [0.0, 0.0, 0.0, 1.0]]\n",
        "                            )"
      ]
    },
    {
      "cell_type": "code",
      "execution_count": 20,
      "metadata": {
        "colab": {
          "base_uri": "https://localhost:8080/"
        },
        "id": "AMrKjwxYfqQo",
        "outputId": "3d6d2bb4-ae17-46d8-f30c-4a6477962e60"
      },
      "outputs": [
        {
          "output_type": "execute_result",
          "data": {
            "text/plain": [
              "array([1., 0., 0., 0.])"
            ]
          },
          "metadata": {},
          "execution_count": 20
        }
      ],
      "source": [
        "remodel.startprob_"
      ]
    },
    {
      "cell_type": "code",
      "execution_count": 21,
      "metadata": {
        "colab": {
          "base_uri": "https://localhost:8080/"
        },
        "id": "uQenVUeffqQp",
        "outputId": "12e7d474-5c23-410a-ceed-5337c4da4b92"
      },
      "outputs": [
        {
          "output_type": "execute_result",
          "data": {
            "text/plain": [
              "array([[0.33, 0.34, 0.33, 0.  ],\n",
              "       [0.  , 0.33, 0.34, 0.33],\n",
              "       [0.  , 0.  , 0.5 , 0.5 ],\n",
              "       [0.  , 0.  , 0.  , 1.  ]])"
            ]
          },
          "metadata": {},
          "execution_count": 21
        }
      ],
      "source": [
        "remodel.transmat_"
      ]
    },
    {
      "cell_type": "code",
      "execution_count": 22,
      "metadata": {
        "colab": {
          "base_uri": "https://localhost:8080/"
        },
        "id": "_MCu6JeifqQq",
        "outputId": "b9bea333-2713-4db7-d00e-dccb6231ce0d"
      },
      "outputs": [
        {
          "output_type": "stream",
          "name": "stderr",
          "text": [
            "         1    -1578379.9153             +nan\n",
            "         2    -1519819.5245      +58560.3908\n",
            "         3    -1486496.9613      +33322.5632\n",
            "         4    -1452756.3390      +33740.6222\n",
            "         5    -1450456.1594       +2300.1797\n",
            "         6    -1444112.5081       +6343.6512\n",
            "         7    -1438013.2542       +6099.2539\n",
            "         8    -1429677.6066       +8335.6475\n",
            "         9    -1423622.0987       +6055.5080\n",
            "        10    -1418555.4522       +5066.6465\n",
            "        11    -1418558.6624          -3.2102\n"
          ]
        },
        {
          "output_type": "execute_result",
          "data": {
            "text/plain": [
              "GaussianHMM(init_params='cm', n_components=4, n_iter=50, params='cmts',\n",
              "            verbose=True)"
            ]
          },
          "metadata": {},
          "execution_count": 22
        }
      ],
      "source": [
        "\n",
        "remodel.fit(X, length)"
      ]
    },
    {
      "cell_type": "code",
      "execution_count": 23,
      "metadata": {
        "colab": {
          "base_uri": "https://localhost:8080/"
        },
        "id": "1-Jfril3fqQr",
        "outputId": "9b62065c-0a32-4e81-87e6-86b2ab8296f9"
      },
      "outputs": [
        {
          "output_type": "execute_result",
          "data": {
            "text/plain": [
              "array([[0.97191211, 0.01526516, 0.01282273, 0.        ],\n",
              "       [0.        , 0.74193548, 0.0483871 , 0.20967742],\n",
              "       [0.        , 0.        , 0.        , 1.        ],\n",
              "       [0.        , 0.        , 0.        , 1.        ]])"
            ]
          },
          "metadata": {},
          "execution_count": 23
        }
      ],
      "source": [
        "remodel.transmat_"
      ]
    },
    {
      "cell_type": "code",
      "execution_count": 24,
      "metadata": {
        "colab": {
          "base_uri": "https://localhost:8080/"
        },
        "id": "mXcoS81YfqQr",
        "outputId": "20aac26f-e4bd-4160-ef90-d23906ff2f39"
      },
      "outputs": [
        {
          "output_type": "execute_result",
          "data": {
            "text/plain": [
              "array([1., 0., 0., 0.])"
            ]
          },
          "metadata": {},
          "execution_count": 24
        }
      ],
      "source": [
        "remodel.startprob_"
      ]
    },
    {
      "cell_type": "code",
      "execution_count": 25,
      "metadata": {
        "id": "1YtqYTikfqQs"
      },
      "outputs": [],
      "source": [
        "def encode_convs(profix):\n",
        "    sent_label = []\n",
        "    with open(profix + '_sentence_transformer.pkl', 'rb') as f:\n",
        "        data = pickle.load(f)\n",
        "    for i in range(0, len(data)):\n",
        "        labels = remodel.decode(np.array(data[i]))[1]\n",
        "        sent_label.append(labels)\n",
        "    \n",
        "    with open(profix + '_sent_trans_cons_label_2.pkl', 'wb') as f:\n",
        "        pickle.dump(sent_label, f)\n",
        "    return sent_label"
      ]
    },
    {
      "cell_type": "code",
      "source": [
        ""
      ],
      "metadata": {
        "id": "CJ4Y1hsKT8HV"
      },
      "execution_count": null,
      "outputs": []
    },
    {
      "cell_type": "code",
      "execution_count": 26,
      "metadata": {
        "id": "wFxF9VaifqQt"
      },
      "outputs": [],
      "source": [
        "l = encode_convs('diehard')"
      ]
    },
    {
      "cell_type": "code",
      "execution_count": null,
      "metadata": {
        "id": "MrV4D5BhfqQu"
      },
      "outputs": [],
      "source": [
        ""
      ]
    }
  ],
  "metadata": {
    "kernelspec": {
      "display_name": "Python 3",
      "language": "python",
      "name": "python3"
    },
    "language_info": {
      "codemirror_mode": {
        "name": "ipython",
        "version": 3
      },
      "file_extension": ".py",
      "mimetype": "text/x-python",
      "name": "python",
      "nbconvert_exporter": "python",
      "pygments_lexer": "ipython3",
      "version": "3.7.6"
    },
    "colab": {
      "name": "Stage_Segmentation.ipynb",
      "provenance": []
    }
  },
  "nbformat": 4,
  "nbformat_minor": 0
}