{
  "cells": [
    {
      "cell_type": "code",
      "execution_count": null,
      "metadata": {
        "id": "NTeBH1LKBn0w"
      },
      "outputs": [],
      "source": [
        "import pickle\n",
        "import json\n",
        "\n",
        "import re"
      ]
    },
    {
      "cell_type": "code",
      "source": [
        "import math \n",
        "mylines = []                             # Declare an empty list named mylines.\n",
        "with open ('script.txt', 'rt') as myfile: # Open lorem.txt for reading text data.\n",
        "    for myline in myfile:                # For each line, stored as myline,\n",
        "        mylines.append(myline)           # add its contents to mylines.\n",
        "mydialogue = []\n",
        "for i in range(len(mylines)):\n",
        "    if len(mylines[i])- len(mylines[i].lstrip())>9:\n",
        "        mydialogue.append(mylines[i])\n",
        "\n",
        "mydial = ''.join(mydialogue)\n",
        "dial = mydial.split('                     ')\n",
        "dialogue = [s.replace(\"\\n\", \"\") for s in dial]\n",
        "dialoguetot = []\n",
        "for i in range (len(dialogue)):\n",
        "    dialogue_i = []\n",
        "    dialogue_i.append(dialogue[i])\n",
        "    dialoguetot.append(dialogue_i)"
      ],
      "metadata": {
        "id": "ApnSwKUjDCSn"
      },
      "execution_count": null,
      "outputs": []
    },
    {
      "cell_type": "code",
      "source": [
        "realdialogue = []  #made to take out of dialogue all empty strings\n",
        "for i in range (len(dialoguetot)):\n",
        "  if any(c.isalpha() for c in dialoguetot[i][0]) == True:\n",
        "    realdialogue.append(dialoguetot[i])\n",
        "  else : \n",
        "    pass"
      ],
      "metadata": {
        "id": "Hk6KFmO-TihG"
      },
      "execution_count": null,
      "outputs": []
    },
    {
      "cell_type": "code",
      "source": [
        "# Made to group the conversations and make our dialogue as a list of lists \n",
        "conv = [realdialogue[0]]\n",
        "conv1 = []\n",
        "for i in range (1, len(realdialogue)):\n",
        "  if i % 10 == 0:\n",
        "    conv1.append(realdialogue[i])\n",
        "    conv.append(conv1)\n",
        "    conv1 = []\n",
        "  else :\n",
        "    conv1.append(realdialogue[i])\n",
        "\n",
        "realconv =[]\n",
        "for i in range(0, len(conv)):\n",
        "  flat_conv = []\n",
        "  for sublist in conv[i]:\n",
        "    for item in sublist:\n",
        "        flat_conv.append(item)\n",
        "  realconv.append(flat_conv)"
      ],
      "metadata": {
        "id": "NcANiRWvVX_V"
      },
      "execution_count": null,
      "outputs": []
    },
    {
      "cell_type": "code",
      "source": [
        "# This cell is for the test where I divide script in 3 parts \n",
        "import math\n",
        "n = len(realdialogue)\n",
        "conv1 = []\n",
        "conv2 = []\n",
        "conv3 = []\n",
        "for i in range(0,math.ceil(n/3)):\n",
        "  conv1.append(realdialogue[i])\n",
        "for i in range(math.ceil(n/3), math.ceil((2*n)/3)):\n",
        "  conv2.append(realdialogue[i])\n",
        "for i in range(math.ceil((2*n)/3),n):\n",
        "  conv3.append(realdialogue[i])\n",
        "conv = [conv1,conv2,conv3]\n",
        "\n",
        "#to make it list of lists it does not change\n",
        "realconv =[]\n",
        "for i in range(0, len(conv)):\n",
        "  flat_conv = []\n",
        "  for sublist in conv[i]:\n",
        "    for item in sublist:\n",
        "        flat_conv.append(item)\n",
        "  realconv.append(flat_conv)"
      ],
      "metadata": {
        "id": "b_0dMdnXZM2D"
      },
      "execution_count": null,
      "outputs": []
    },
    {
      "cell_type": "code",
      "execution_count": null,
      "metadata": {
        "id": "Y1o1jr0GBn0y"
      },
      "outputs": [],
      "source": [
        "def concat_conversation(data, labels, sep = ' | ', label_type = '_sent_c99_label'):\n",
        "    conversations = []\n",
        "    for i in range(0, len(data)):\n",
        "\n",
        "        if len(labels) > 1:\n",
        "            \n",
        "            if label_type == '_sent_c99_label':\n",
        "                temp = ''\n",
        "                temp += data[i][0]\n",
        "                for j in range(1, len(data[i])):\n",
        "                    if labels[i][j] != labels[i][j-1]:\n",
        "\n",
        "                        temp = temp + sep + data[i][j]\n",
        "                    else:\n",
        "                        temp = temp + ' ' + data[i][j]\n",
        "                temp += ' | '\n",
        "                conversations.append(temp)\n",
        "            else:\n",
        "                temp = ' | '\n",
        "                temp += sentences[0]\n",
        "                for j in range(1, len(sentences)):\n",
        "                    if labels[i][j] != labels[i][j-1]:\n",
        "\n",
        "                        temp = temp + sep + sentences[j]\n",
        "                    else:\n",
        "                        temp = temp + ' ' + sentences[j]\n",
        "                conversations.append(temp)\n",
        "                \n",
        "        elif labels[0] == 1:\n",
        "            conversations.append(' | ' + ' | '.join(data[i]))\n",
        "        elif labels[0] == 0:\n",
        "            conversations.append(' | ' + ' '.join(data[i]))\n",
        "        \n",
        "    return conversations\n",
        "    \n",
        "\n",
        "def transform_format(data, prefix, label_type = '_sent_c99_label'):\n",
        "    if label_type != '_all' and label_type != '_none':\n",
        "        with open(prefix + label_type +'.pkl', 'rb') as f:\n",
        "            labels = pickle.load(f)\n",
        "    elif label_type == '_all':\n",
        "        labels = [1]\n",
        "    elif label_type == '_none':\n",
        "        labels = [0]\n",
        "        \n",
        "    cons = concat_conversation(data, labels, label_type)\n",
        "    \n",
        "    print(len(cons))\n",
        "    \n",
        "    \n",
        "\n",
        "    with open(prefix + label_type +'.source', 'wt', encoding='utf-8') as source_file:\n",
        "        \n",
        "        for i in range(0, len(cons)):\n",
        "            article = cons[i]\n",
        "            \n",
        "            source_file.write(article + '\\n')\n",
        "            \n",
        "            \n",
        "    "
      ]
    },
    {
      "cell_type": "code",
      "execution_count": null,
      "metadata": {
        "scrolled": true,
        "id": "E_rRyJelBn0z",
        "outputId": "6fd9c9cf-f311-4e13-df53-bb19f3d739a0",
        "colab": {
          "base_uri": "https://localhost:8080/"
        }
      },
      "outputs": [
        {
          "output_type": "stream",
          "name": "stdout",
          "text": [
            "3\n",
            "3\n",
            "3\n",
            "3\n"
          ]
        }
      ],
      "source": [
        "\n",
        "transform_format(realconv, 'gladiator', '_all')\n",
        "transform_format(realconv, 'gladiator', '_none')\n",
        "transform_format(realconv, 'gladiator', '_sent_trans_cons_label_2') \n",
        "transform_format(realconv, 'gladiator', '_sent_c99_label') "
      ]
    },
    {
      "cell_type": "code",
      "execution_count": null,
      "metadata": {
        "id": "GQoAftT2Bn00"
      },
      "outputs": [],
      "source": [
        ""
      ]
    },
    {
      "cell_type": "code",
      "execution_count": null,
      "metadata": {
        "id": "igi0CpekBn00"
      },
      "outputs": [],
      "source": [
        ""
      ]
    }
  ],
  "metadata": {
    "kernelspec": {
      "display_name": "Python 3",
      "language": "python",
      "name": "python3"
    },
    "language_info": {
      "codemirror_mode": {
        "name": "ipython",
        "version": 3
      },
      "file_extension": ".py",
      "mimetype": "text/x-python",
      "name": "python",
      "nbconvert_exporter": "python",
      "pygments_lexer": "ipython3",
      "version": "3.7.6"
    },
    "colab": {
      "name": "Read_Labels.ipynb",
      "provenance": []
    }
  },
  "nbformat": 4,
  "nbformat_minor": 0
}